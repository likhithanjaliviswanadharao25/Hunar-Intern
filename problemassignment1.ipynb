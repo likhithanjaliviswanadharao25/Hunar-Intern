{
 "cells": [
  {
   "cell_type": "code",
   "execution_count": 18,
   "id": "339c7b7c-0edc-4ac2-86a3-002089f869be",
   "metadata": {},
   "outputs": [
    {
     "name": "stdin",
     "output_type": "stream",
     "text": [
      "Enter the order of the square matrix ( 2 for 2x2, 3 for 3x3):  3\n"
     ]
    },
    {
     "name": "stdout",
     "output_type": "stream",
     "text": [
      "Enter 9 elements for the matrix row-wise:\n"
     ]
    },
    {
     "name": "stdin",
     "output_type": "stream",
     "text": [
      "Element 1:  2\n",
      "Element 2:  4\n",
      "Element 3:  5\n",
      "Element 4:  6\n",
      "Element 5:  1\n",
      "Element 6:  3\n",
      "Element 7:  7\n",
      "Element 8:  2\n",
      "Element 9:  4\n"
     ]
    },
    {
     "name": "stdout",
     "output_type": "stream",
     "text": [
      "\n",
      "The matrix is:\n",
      "[[2 4 5]\n",
      " [6 1 3]\n",
      " [7 2 4]]\n",
      "\n",
      "The sum of diagonal elements is: 7\n"
     ]
    }
   ],
   "source": [
    "import numpy as np\n",
    "\n",
    "# User input for matrix order\n",
    "n = int(input(\"Enter the order of the square matrix ( 2 for 2x2, 3 for 3x3): \"))\n",
    "\n",
    "# User input for matrix elements\n",
    "print(f\"Enter {n*n} elements for the matrix row-wise:\")\n",
    "\n",
    "elements = []\n",
    "for i in range(n*n):\n",
    "    val = int(input(f\"Element {i+1}: \"))\n",
    "    elements.append(val)\n",
    "\n",
    "# Create NumPy array and reshape it into n x n matrix\n",
    "matrix = np.array(elements).reshape(n, n)\n",
    "\n",
    "print(\"\\nThe matrix is:\")\n",
    "print(matrix)\n",
    "\n",
    "# Calculate sum of diagonal elements using a loop\n",
    "diagonal_sum = 0\n",
    "for i in range(n):\n",
    "    diagonal_sum += matrix[i][i]\n",
    "\n",
    "# Output the sum\n",
    "print(f\"\\nThe sum of diagonal elements is: {diagonal_sum}\")\n"
   ]
  },
  {
   "cell_type": "code",
   "execution_count": 19,
   "id": "9f4b321d-eb3b-4dd6-804e-619795811d60",
   "metadata": {},
   "outputs": [
    {
     "name": "stdout",
     "output_type": "stream",
     "text": [
      "Average marks:\n",
      "   Average_Marks\n",
      "0           54.6\n",
      "Students names in ascending order:\n",
      "     Name\n",
      "0    Amit\n",
      "1  Anjali\n",
      "2   Rahul\n",
      "3   Reena\n",
      "4   Rohit\n",
      "students rollno who scored below 30:\n",
      "   RollNo   Name\n",
      "0       1  Rahul\n",
      "1       5   Amit\n",
      "Students rollno whose name start with R:\n",
      "   RollNo\n",
      "0       1\n",
      "1       3\n",
      "2       4\n",
      "Students rollno who are pursuing :\n",
      "   RollNo\n",
      "0       1\n",
      "1       4\n",
      "2       5\n"
     ]
    }
   ],
   "source": [
    "import sqlite3\n",
    "import pandas as pd\n",
    "\n",
    "# Connect to SQLite in-memory database\n",
    "conn = sqlite3.connect(':memory:')\n",
    "cursor = conn.cursor()\n",
    "\n",
    "# Create tables\n",
    "cursor.execute('''\n",
    "CREATE TABLE Student (\n",
    "    RollNo INTEGER PRIMARY KEY,\n",
    "    Name TEXT,\n",
    "    Marks INTEGER,\n",
    "    Aadhar_Number TEXT UNIQUE,\n",
    "    Address TEXT\n",
    ")\n",
    "''')\n",
    "\n",
    "cursor.execute('''\n",
    "CREATE TABLE Course (\n",
    "    RollNo INTEGER,\n",
    "    Course TEXT,\n",
    "    Course_Duration TEXT,\n",
    "    FOREIGN KEY (RollNo) REFERENCES Student(RollNo)\n",
    ")\n",
    "''')\n",
    "\n",
    "# Insert data\n",
    "students = [\n",
    "    (1, 'Rahul', 25, '123456789012', 'Delhi'),\n",
    "    (2, 'Anjali', 85, '123456789013', 'Mumbai'),\n",
    "    (3, 'Rohit', 40, '123456789014', 'Bangalore'),\n",
    "    (4, 'Reena', 95, '123456789015', 'Chennai'),\n",
    "    (5, 'Amit', 28, '123456789016', 'Kolkata')\n",
    "]\n",
    "cursor.executemany('INSERT INTO Student VALUES (?, ?, ?, ?, ?)', students)\n",
    "\n",
    "courses = [\n",
    "    (1, 'BCA', '3 years'),\n",
    "    (2, 'MCA', '2 years'),\n",
    "    (3, 'BBA', '3 years'),\n",
    "    (4, 'BCA', '3 years'),\n",
    "    (5, 'BCA', '3 years')\n",
    "]\n",
    "cursor.executemany('INSERT INTO Course VALUES (?, ?, ?)', courses)\n",
    "\n",
    "conn.commit()\n",
    "\n",
    "# Example query: average marks\n",
    "df = pd.read_sql_query('SELECT AVG(Marks) AS Average_Marks FROM Student', conn)\n",
    "print(\"Average marks:\")\n",
    "print(df)\n",
    "\n",
    "# Names ascending\n",
    "df = pd.read_sql_query('SELECT Name FROM Student ORDER BY Name ASC', conn)\n",
    "print(\"Students names in ascending order:\")\n",
    "print(df)\n",
    "\n",
    "# Students scoring below 30\n",
    "df = pd.read_sql_query('SELECT RollNo, Name FROM Student WHERE Marks < 30', conn)\n",
    "print(\"students rollno who scored below 30:\")\n",
    "print(df)\n",
    "\n",
    "# Names starting with 'R'\n",
    "df = pd.read_sql_query(\"SELECT RollNo FROM Student WHERE Name LIKE 'R%'\", conn)\n",
    "print(\"Students rollno whose name start with R:\")\n",
    "print(df)\n",
    "\n",
    "# RollNos pursuing BCA\n",
    "df = pd.read_sql_query(\"SELECT RollNo FROM Course WHERE Course = 'BCA'\", conn)\n",
    "print(\"Students rollno who are pursuing :\")\n",
    "print(df)\n",
    "\n",
    "conn.close()\n"
   ]
  },
  {
   "cell_type": "code",
   "execution_count": null,
   "id": "6c5c919e-6eb4-45a0-89b7-7d88216e3cc1",
   "metadata": {},
   "outputs": [],
   "source": []
  }
 ],
 "metadata": {
  "kernelspec": {
   "display_name": "Python 3 (ipykernel)",
   "language": "python",
   "name": "python3"
  },
  "language_info": {
   "codemirror_mode": {
    "name": "ipython",
    "version": 3
   },
   "file_extension": ".py",
   "mimetype": "text/x-python",
   "name": "python",
   "nbconvert_exporter": "python",
   "pygments_lexer": "ipython3",
   "version": "3.13.3"
  }
 },
 "nbformat": 4,
 "nbformat_minor": 5
}
